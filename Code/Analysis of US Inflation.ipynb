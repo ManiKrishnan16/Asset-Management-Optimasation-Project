{
 "cells": [
  {
   "cell_type": "markdown",
   "id": "c36d1757-0b45-4249-8330-59bcb90de47d",
   "metadata": {},
   "source": [
    "# Analysis of US Inflation: Trends in Food, Energy, and Housing Indices"
   ]
  },
  {
   "cell_type": "markdown",
   "id": "ab988f7f-a08f-4a5b-bb61-493a0cb7760e",
   "metadata": {},
   "source": [
    "**Importing Libraries & Datasets**"
   ]
  },
  {
   "cell_type": "code",
   "execution_count": 13,
   "id": "e5ef7efe-76bf-4f5d-be4d-4e43717d9511",
   "metadata": {},
   "outputs": [],
   "source": [
    "import pandas as pd\n",
    "\n",
    "# Load Food at Home CPI\n",
    "food_df = pd.read_csv(r\"D:\\Masters Study Abroad\\BA 2nd Sem\\IS6611 Applied Research in Business Analytics\\IS6611 IT Artefact V3\\Final Files\\Final Datasets\\US Inflation Raw\\US_Food_Index.csv\", skiprows=11)\n",
    "# Load Energy CPI\n",
    "energy_df = pd.read_csv(r\"D:\\Masters Study Abroad\\BA 2nd Sem\\IS6611 Applied Research in Business Analytics\\IS6611 IT Artefact V3\\Final Files\\Final Datasets\\US Inflation Raw\\US_Energy_Index.csv\", skiprows=11)\n",
    "# Load Housing CPI\n",
    "housing_df = pd.read_csv(r\"D:\\Masters Study Abroad\\BA 2nd Sem\\IS6611 Applied Research in Business Analytics\\IS6611 IT Artefact V3\\Final Files\\Final Datasets\\US Inflation Raw\\US_Housing_Index.csv\", skiprows=11)"
   ]
  },
  {
   "cell_type": "markdown",
   "id": "014f7d57-68d0-46dd-aa38-2c05e462f6e9",
   "metadata": {},
   "source": [
    "**Data Preparation and Restructuring**"
   ]
  },
  {
   "cell_type": "code",
   "execution_count": 14,
   "id": "60da0503-402b-4d0d-890d-a02024f344f8",
   "metadata": {},
   "outputs": [],
   "source": [
    "# List of month columns to keep\n",
    "months = ['Jan', 'Feb', 'Mar', 'Apr', 'May', 'Jun', \n",
    "          'Jul', 'Aug', 'Sep', 'Oct', 'Nov', 'Dec']\n",
    "\n",
    "# Melt function to reshape each dataframe\n",
    "food_long = pd.melt(housing_df[['Year'] + months], id_vars='Year', \n",
    "                    value_vars=months, var_name='Month', value_name='Food_Index')\n",
    "energy_long = pd.melt(energy_df[['Year'] + months], id_vars='Year', \n",
    "                      value_vars=months, var_name='Month', value_name='Energy_Index')\n",
    "housing_long = pd.melt(food_df[['Year'] + months], id_vars='Year', \n",
    "                       value_vars=months, var_name='Month', value_name='Housing_Index')\n",
    "\n",
    "# Mapping for month name to number\n",
    "month_map = {\n",
    "    'Jan': '01', 'Feb': '02', 'Mar': '03', 'Apr': '04', \n",
    "    'May': '05', 'Jun': '06', 'Jul': '07', 'Aug': '08',\n",
    "    'Sep': '09', 'Oct': '10', 'Nov': '11', 'Dec': '12'\n",
    "}\n",
    "\n",
    "# Add a proper datetime column\n",
    "for df, name in [(food_long, 'Food'), (energy_long, 'Energy'), (housing_long, 'Housing')]:\n",
    "    df['Month_Num'] = df['Month'].map(month_map)\n",
    "    df['Date'] = pd.to_datetime(df['Year'].astype(str) + '-' + df['Month_Num'])\n",
    "\n",
    "# Drop unnecessary columns\n",
    "food_long = food_long[['Date', 'Food_Index']]\n",
    "energy_long = energy_long[['Date', 'Energy_Index']]\n",
    "housing_long = housing_long[['Date', 'Housing_Index']]"
   ]
  },
  {
   "cell_type": "markdown",
   "id": "84c650b8-bdc8-4478-a307-1f031b513c46",
   "metadata": {},
   "source": [
    "**Dataset Inspection**"
   ]
  },
  {
   "cell_type": "code",
   "execution_count": 15,
   "id": "8809bbbd-66e4-40b8-904d-8eed5684b067",
   "metadata": {},
   "outputs": [
    {
     "data": {
      "text/html": [
       "<div>\n",
       "<style scoped>\n",
       "    .dataframe tbody tr th:only-of-type {\n",
       "        vertical-align: middle;\n",
       "    }\n",
       "\n",
       "    .dataframe tbody tr th {\n",
       "        vertical-align: top;\n",
       "    }\n",
       "\n",
       "    .dataframe thead th {\n",
       "        text-align: right;\n",
       "    }\n",
       "</style>\n",
       "<table border=\"1\" class=\"dataframe\">\n",
       "  <thead>\n",
       "    <tr style=\"text-align: right;\">\n",
       "      <th></th>\n",
       "      <th>Date</th>\n",
       "      <th>Food_Index</th>\n",
       "    </tr>\n",
       "  </thead>\n",
       "  <tbody>\n",
       "    <tr>\n",
       "      <th>0</th>\n",
       "      <td>2015-01-01</td>\n",
       "      <td>232.167</td>\n",
       "    </tr>\n",
       "    <tr>\n",
       "      <th>1</th>\n",
       "      <td>2016-01-01</td>\n",
       "      <td>236.811</td>\n",
       "    </tr>\n",
       "    <tr>\n",
       "      <th>2</th>\n",
       "      <td>2017-01-01</td>\n",
       "      <td>244.133</td>\n",
       "    </tr>\n",
       "    <tr>\n",
       "      <th>3</th>\n",
       "      <td>2018-01-01</td>\n",
       "      <td>251.133</td>\n",
       "    </tr>\n",
       "    <tr>\n",
       "      <th>4</th>\n",
       "      <td>2019-01-01</td>\n",
       "      <td>258.480</td>\n",
       "    </tr>\n",
       "  </tbody>\n",
       "</table>\n",
       "</div>"
      ],
      "text/plain": [
       "        Date  Food_Index\n",
       "0 2015-01-01     232.167\n",
       "1 2016-01-01     236.811\n",
       "2 2017-01-01     244.133\n",
       "3 2018-01-01     251.133\n",
       "4 2019-01-01     258.480"
      ]
     },
     "execution_count": 15,
     "metadata": {},
     "output_type": "execute_result"
    }
   ],
   "source": [
    "food_long.head()"
   ]
  },
  {
   "cell_type": "code",
   "execution_count": 16,
   "id": "532b7acc-96ce-432e-a9b3-d7dbdf78f043",
   "metadata": {},
   "outputs": [
    {
     "data": {
      "text/html": [
       "<div>\n",
       "<style scoped>\n",
       "    .dataframe tbody tr th:only-of-type {\n",
       "        vertical-align: middle;\n",
       "    }\n",
       "\n",
       "    .dataframe tbody tr th {\n",
       "        vertical-align: top;\n",
       "    }\n",
       "\n",
       "    .dataframe thead th {\n",
       "        text-align: right;\n",
       "    }\n",
       "</style>\n",
       "<table border=\"1\" class=\"dataframe\">\n",
       "  <thead>\n",
       "    <tr style=\"text-align: right;\">\n",
       "      <th></th>\n",
       "      <th>Date</th>\n",
       "      <th>Energy_Index</th>\n",
       "    </tr>\n",
       "  </thead>\n",
       "  <tbody>\n",
       "    <tr>\n",
       "      <th>0</th>\n",
       "      <td>2015-01-01</td>\n",
       "      <td>190.941</td>\n",
       "    </tr>\n",
       "    <tr>\n",
       "      <th>1</th>\n",
       "      <td>2016-01-01</td>\n",
       "      <td>178.755</td>\n",
       "    </tr>\n",
       "    <tr>\n",
       "      <th>2</th>\n",
       "      <td>2017-01-01</td>\n",
       "      <td>198.579</td>\n",
       "    </tr>\n",
       "    <tr>\n",
       "      <th>3</th>\n",
       "      <td>2018-01-01</td>\n",
       "      <td>209.700</td>\n",
       "    </tr>\n",
       "    <tr>\n",
       "      <th>4</th>\n",
       "      <td>2019-01-01</td>\n",
       "      <td>198.735</td>\n",
       "    </tr>\n",
       "  </tbody>\n",
       "</table>\n",
       "</div>"
      ],
      "text/plain": [
       "        Date  Energy_Index\n",
       "0 2015-01-01       190.941\n",
       "1 2016-01-01       178.755\n",
       "2 2017-01-01       198.579\n",
       "3 2018-01-01       209.700\n",
       "4 2019-01-01       198.735"
      ]
     },
     "execution_count": 16,
     "metadata": {},
     "output_type": "execute_result"
    }
   ],
   "source": [
    "energy_long.head()"
   ]
  },
  {
   "cell_type": "code",
   "execution_count": 17,
   "id": "f19a7f3a-0aa4-4fea-934e-9f74b7791125",
   "metadata": {},
   "outputs": [
    {
     "data": {
      "text/html": [
       "<div>\n",
       "<style scoped>\n",
       "    .dataframe tbody tr th:only-of-type {\n",
       "        vertical-align: middle;\n",
       "    }\n",
       "\n",
       "    .dataframe tbody tr th {\n",
       "        vertical-align: top;\n",
       "    }\n",
       "\n",
       "    .dataframe thead th {\n",
       "        text-align: right;\n",
       "    }\n",
       "</style>\n",
       "<table border=\"1\" class=\"dataframe\">\n",
       "  <thead>\n",
       "    <tr style=\"text-align: right;\">\n",
       "      <th></th>\n",
       "      <th>Date</th>\n",
       "      <th>Housing_Index</th>\n",
       "    </tr>\n",
       "  </thead>\n",
       "  <tbody>\n",
       "    <tr>\n",
       "      <th>0</th>\n",
       "      <td>2015-01-01</td>\n",
       "      <td>242.358</td>\n",
       "    </tr>\n",
       "    <tr>\n",
       "      <th>1</th>\n",
       "      <td>2016-01-01</td>\n",
       "      <td>240.924</td>\n",
       "    </tr>\n",
       "    <tr>\n",
       "      <th>2</th>\n",
       "      <td>2017-01-01</td>\n",
       "      <td>236.372</td>\n",
       "    </tr>\n",
       "    <tr>\n",
       "      <th>3</th>\n",
       "      <td>2018-01-01</td>\n",
       "      <td>238.966</td>\n",
       "    </tr>\n",
       "    <tr>\n",
       "      <th>4</th>\n",
       "      <td>2019-01-01</td>\n",
       "      <td>240.630</td>\n",
       "    </tr>\n",
       "  </tbody>\n",
       "</table>\n",
       "</div>"
      ],
      "text/plain": [
       "        Date  Housing_Index\n",
       "0 2015-01-01        242.358\n",
       "1 2016-01-01        240.924\n",
       "2 2017-01-01        236.372\n",
       "3 2018-01-01        238.966\n",
       "4 2019-01-01        240.630"
      ]
     },
     "execution_count": 17,
     "metadata": {},
     "output_type": "execute_result"
    }
   ],
   "source": [
    "housing_long.head()"
   ]
  },
  {
   "cell_type": "markdown",
   "id": "361b2bbc-c6c1-41c9-8db5-c01a32a04d58",
   "metadata": {},
   "source": [
    "**Dataset Consolidation**"
   ]
  },
  {
   "cell_type": "code",
   "execution_count": 18,
   "id": "9a324e17-0535-4501-bd5d-a3891f2f381b",
   "metadata": {},
   "outputs": [
    {
     "data": {
      "text/html": [
       "<div>\n",
       "<style scoped>\n",
       "    .dataframe tbody tr th:only-of-type {\n",
       "        vertical-align: middle;\n",
       "    }\n",
       "\n",
       "    .dataframe tbody tr th {\n",
       "        vertical-align: top;\n",
       "    }\n",
       "\n",
       "    .dataframe thead th {\n",
       "        text-align: right;\n",
       "    }\n",
       "</style>\n",
       "<table border=\"1\" class=\"dataframe\">\n",
       "  <thead>\n",
       "    <tr style=\"text-align: right;\">\n",
       "      <th></th>\n",
       "      <th>Date</th>\n",
       "      <th>Food_Index</th>\n",
       "      <th>Energy_Index</th>\n",
       "      <th>Housing_Index</th>\n",
       "    </tr>\n",
       "  </thead>\n",
       "  <tbody>\n",
       "    <tr>\n",
       "      <th>0</th>\n",
       "      <td>2015-01-01</td>\n",
       "      <td>232.167</td>\n",
       "      <td>190.941</td>\n",
       "      <td>242.358</td>\n",
       "    </tr>\n",
       "    <tr>\n",
       "      <th>1</th>\n",
       "      <td>2015-02-01</td>\n",
       "      <td>232.601</td>\n",
       "      <td>195.436</td>\n",
       "      <td>242.026</td>\n",
       "    </tr>\n",
       "    <tr>\n",
       "      <th>2</th>\n",
       "      <td>2015-03-01</td>\n",
       "      <td>232.900</td>\n",
       "      <td>204.335</td>\n",
       "      <td>240.896</td>\n",
       "    </tr>\n",
       "    <tr>\n",
       "      <th>3</th>\n",
       "      <td>2015-04-01</td>\n",
       "      <td>233.139</td>\n",
       "      <td>203.430</td>\n",
       "      <td>240.587</td>\n",
       "    </tr>\n",
       "    <tr>\n",
       "      <th>4</th>\n",
       "      <td>2015-05-01</td>\n",
       "      <td>233.512</td>\n",
       "      <td>214.808</td>\n",
       "      <td>240.200</td>\n",
       "    </tr>\n",
       "  </tbody>\n",
       "</table>\n",
       "</div>"
      ],
      "text/plain": [
       "        Date  Food_Index  Energy_Index  Housing_Index\n",
       "0 2015-01-01     232.167       190.941        242.358\n",
       "1 2015-02-01     232.601       195.436        242.026\n",
       "2 2015-03-01     232.900       204.335        240.896\n",
       "3 2015-04-01     233.139       203.430        240.587\n",
       "4 2015-05-01     233.512       214.808        240.200"
      ]
     },
     "execution_count": 18,
     "metadata": {},
     "output_type": "execute_result"
    }
   ],
   "source": [
    "# Merging all three datasets on the 'Date' column\n",
    "US_inflation_df = food_long.merge(energy_long, on='Date').merge(housing_long, on='Date')\n",
    "\n",
    "# Sort by date\n",
    "US_inflation_df.sort_values(by='Date', inplace=True)\n",
    "\n",
    "# Reset index\n",
    "US_inflation_df.reset_index(drop=True, inplace=True)\n",
    "\n",
    "# Preview the table\n",
    "US_inflation_df.head()"
   ]
  },
  {
   "cell_type": "markdown",
   "id": "6c16b0f2-a3ae-4980-ada2-0379a7dbf9bc",
   "metadata": {},
   "source": [
    "**Computing Percentage Growth in Inflation Indices**"
   ]
  },
  {
   "cell_type": "code",
   "execution_count": 19,
   "id": "800887a5-70df-4d31-9c01-e5438fe54508",
   "metadata": {},
   "outputs": [
    {
     "data": {
      "text/html": [
       "<div>\n",
       "<style scoped>\n",
       "    .dataframe tbody tr th:only-of-type {\n",
       "        vertical-align: middle;\n",
       "    }\n",
       "\n",
       "    .dataframe tbody tr th {\n",
       "        vertical-align: top;\n",
       "    }\n",
       "\n",
       "    .dataframe thead th {\n",
       "        text-align: right;\n",
       "    }\n",
       "</style>\n",
       "<table border=\"1\" class=\"dataframe\">\n",
       "  <thead>\n",
       "    <tr style=\"text-align: right;\">\n",
       "      <th></th>\n",
       "      <th>Date</th>\n",
       "      <th>Food_Index</th>\n",
       "      <th>Energy_Index</th>\n",
       "      <th>Housing_Index</th>\n",
       "      <th>Food_Growth_%</th>\n",
       "      <th>Energy_Growth_%</th>\n",
       "      <th>Housing_Growth_%</th>\n",
       "    </tr>\n",
       "  </thead>\n",
       "  <tbody>\n",
       "    <tr>\n",
       "      <th>0</th>\n",
       "      <td>2015-01-01</td>\n",
       "      <td>232.167</td>\n",
       "      <td>190.941</td>\n",
       "      <td>242.358</td>\n",
       "      <td>0.00</td>\n",
       "      <td>0.00</td>\n",
       "      <td>0.00</td>\n",
       "    </tr>\n",
       "    <tr>\n",
       "      <th>1</th>\n",
       "      <td>2015-02-01</td>\n",
       "      <td>232.601</td>\n",
       "      <td>195.436</td>\n",
       "      <td>242.026</td>\n",
       "      <td>0.19</td>\n",
       "      <td>2.35</td>\n",
       "      <td>-0.14</td>\n",
       "    </tr>\n",
       "    <tr>\n",
       "      <th>2</th>\n",
       "      <td>2015-03-01</td>\n",
       "      <td>232.900</td>\n",
       "      <td>204.335</td>\n",
       "      <td>240.896</td>\n",
       "      <td>0.32</td>\n",
       "      <td>7.01</td>\n",
       "      <td>-0.60</td>\n",
       "    </tr>\n",
       "    <tr>\n",
       "      <th>3</th>\n",
       "      <td>2015-04-01</td>\n",
       "      <td>233.139</td>\n",
       "      <td>203.430</td>\n",
       "      <td>240.587</td>\n",
       "      <td>0.42</td>\n",
       "      <td>6.54</td>\n",
       "      <td>-0.73</td>\n",
       "    </tr>\n",
       "    <tr>\n",
       "      <th>4</th>\n",
       "      <td>2015-05-01</td>\n",
       "      <td>233.512</td>\n",
       "      <td>214.808</td>\n",
       "      <td>240.200</td>\n",
       "      <td>0.58</td>\n",
       "      <td>12.50</td>\n",
       "      <td>-0.89</td>\n",
       "    </tr>\n",
       "  </tbody>\n",
       "</table>\n",
       "</div>"
      ],
      "text/plain": [
       "        Date  Food_Index  Energy_Index  Housing_Index  Food_Growth_%  \\\n",
       "0 2015-01-01     232.167       190.941        242.358           0.00   \n",
       "1 2015-02-01     232.601       195.436        242.026           0.19   \n",
       "2 2015-03-01     232.900       204.335        240.896           0.32   \n",
       "3 2015-04-01     233.139       203.430        240.587           0.42   \n",
       "4 2015-05-01     233.512       214.808        240.200           0.58   \n",
       "\n",
       "   Energy_Growth_%  Housing_Growth_%  \n",
       "0             0.00              0.00  \n",
       "1             2.35             -0.14  \n",
       "2             7.01             -0.60  \n",
       "3             6.54             -0.73  \n",
       "4            12.50             -0.89  "
      ]
     },
     "execution_count": 19,
     "metadata": {},
     "output_type": "execute_result"
    }
   ],
   "source": [
    "# Get the base (first row) values\n",
    "base_food = US_inflation_df['Food_Index'].iloc[0]\n",
    "base_energy = US_inflation_df['Energy_Index'].iloc[0]\n",
    "base_housing = US_inflation_df['Housing_Index'].iloc[0]\n",
    "\n",
    "# Calculate percentage changes\n",
    "US_inflation_df['Food_Growth_%'] = ((US_inflation_df['Food_Index'] - base_food) / base_food * 100).round(2)\n",
    "US_inflation_df['Energy_Growth_%'] = ((US_inflation_df['Energy_Index'] - base_energy) / base_energy * 100).round(2)\n",
    "US_inflation_df['Housing_Growth_%'] = ((US_inflation_df['Housing_Index'] - base_housing) / base_housing * 100).round(2)\n",
    "\n",
    "# Display updated DataFrame\n",
    "US_inflation_df.head()"
   ]
  },
  {
   "cell_type": "markdown",
   "id": "964a9e1a-14a9-4f35-bdf4-786d64f72b53",
   "metadata": {},
   "source": [
    "**Final Dataset Export**"
   ]
  },
  {
   "cell_type": "code",
   "execution_count": 20,
   "id": "de205f10-d67b-4d48-a27e-cd0af0529b4c",
   "metadata": {},
   "outputs": [],
   "source": [
    "# Export to CSV\n",
    "US_inflation_df.to_csv(r\"D:\\Masters Study Abroad\\BA 2nd Sem\\IS6611 Applied Research in Business Analytics\\IS6611 IT Artefact V3\\Final Files\\Final Datasets\\US Inflation Raw\\US_inflation_index.csv\", index=False)"
   ]
  },
  {
   "cell_type": "code",
   "execution_count": null,
   "id": "ccc4d496-aaf1-474a-a656-0a18cb55c0a4",
   "metadata": {},
   "outputs": [],
   "source": []
  }
 ],
 "metadata": {
  "kernelspec": {
   "display_name": "Python 3 (ipykernel)",
   "language": "python",
   "name": "python3"
  },
  "language_info": {
   "codemirror_mode": {
    "name": "ipython",
    "version": 3
   },
   "file_extension": ".py",
   "mimetype": "text/x-python",
   "name": "python",
   "nbconvert_exporter": "python",
   "pygments_lexer": "ipython3",
   "version": "3.12.7"
  }
 },
 "nbformat": 4,
 "nbformat_minor": 5
}
